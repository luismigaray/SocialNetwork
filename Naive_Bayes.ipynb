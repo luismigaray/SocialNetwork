{
 "cells": [
  {
   "cell_type": "code",
   "execution_count": 2,
   "metadata": {},
   "outputs": [
    {
     "name": "stdout",
     "output_type": "stream",
     "text": [
      "PostgreSQL connection is closed\n",
      "PostgreSQL connection is closed\n",
      "\n",
      "\n",
      "\n",
      "Naive-Bayes\n",
      "\n",
      "\n",
      "\n",
      "GaussianNB(priors=None, var_smoothing=1e-09)\n",
      "\n",
      "\n",
      "\n",
      "Score :0.8043297252289758\n",
      "\n",
      "\n",
      "\n"
     ]
    },
    {
     "data": {
      "image/png": "[encoded data removed]",
      "text/plain": [
       "<Figure size 432x288 with 2 Axes>"
      ]
     },
     "metadata": {
      "needs_background": "light"
     },
     "output_type": "display_data"
    }
   ],
   "source": [
    "import psycopg2\n",
    "import sys, nltk, re, string, heapq, gensim\n",
    "from nltk.corpus import stopwords\n",
    "from psycopg2 import Error\n",
    "import math\n",
    "from matplotlib import pyplot as plt\n",
    "import pandas as pd\n",
    "import pandas.io.sql as sqlio\n",
    "\n",
    "from sklearn.svm import SVC\n",
    "from sklearn.naive_bayes import GaussianNB\n",
    "import scikitplot as skplt\n",
    "\n",
    "\n",
    "def crearConexion():\n",
    "    \n",
    "    connection = psycopg2.connect(user = \"m.soto.montesinos\",\n",
    "                                      password = \"1234\",\n",
    "                                      host = \"127.0.0.1\",\n",
    "                                      port = \"5432\",\n",
    "                                      database = \"twitterBBVA\")\n",
    "\n",
    "    return connection\n",
    "\n",
    "def obtenerTweets(tabla):\n",
    "\n",
    "    try:\n",
    "        \n",
    "        connection = crearConexion()\n",
    "        query = \"\"\"\n",
    "                SELECT clasificacion, sentimiento, caso_villarejo, futbol, mayusculas,\n",
    "                lista_palabras_positivas, lista_palabras_negativas, emoticonos_buenos,\n",
    "                emoticonos_malos FROM %s;\n",
    "                \"\"\" % (tabla)\n",
    "        \n",
    "        tweets = sqlio.read_sql_query(query, connection)\n",
    "        \n",
    "    except (Exception, psycopg2.DatabaseError) as error :\n",
    "    \n",
    "        print (\"Error obteniendo los datos\", error)\n",
    "    \n",
    "    finally:\n",
    "        \n",
    "        if (connection):\n",
    "            \n",
    "            connection.close()\n",
    "            print(\"PostgreSQL connection is closed\")\n",
    "\n",
    "    return tweets\n",
    "\n",
    "\n",
    "def main():\n",
    "    \n",
    "    training_tweets = obtenerTweets(\"training_set\")\n",
    "    testing_tweets = obtenerTweets(\"testing_set\")\n",
    "    \n",
    "    x_training_tweets = training_tweets.drop(columns = ['clasificacion'])\n",
    "    y_training_tweets = training_tweets['clasificacion']\n",
    "    x_testing_tweets = testing_tweets.drop(columns = ['clasificacion'])\n",
    "    y_testing_tweets = testing_tweets['clasificacion']\n",
    "    \n",
    "    modelo = GaussianNB()\n",
    "    modelo.fit(x_training_tweets, y_training_tweets)\n",
    "    score = modelo.score(x_testing_tweets, y_testing_tweets)\n",
    "    \n",
    "    print('\\n\\n')\n",
    "    print(\"Naive-Bayes\")\n",
    "    print('\\n\\n')\n",
    "    print(modelo)\n",
    "    print('\\n\\n')\n",
    "    print(\"Score :\" + str(score))\n",
    "    print('\\n\\n')\n",
    "    naive_bayes_predicciones = modelo.predict(x_testing_tweets)\n",
    "    \n",
    "    skplt.metrics.plot_confusion_matrix(y_testing_tweets,\n",
    "                                        naive_bayes_predicciones,\n",
    "                                        title = \"Matriz Confusión Naive-Bayes\",\n",
    "                                        normalize=False)\n",
    "    plt.show()\n",
    "\n",
    "    \n",
    "if __name__ == '__main__':\n",
    "    main()\n",
    "\n",
    "\n",
    "\n",
    "\n"
   ]
  },
  {
   "cell_type": "code",
   "execution_count": null,
   "metadata": {},
   "outputs": [],
   "source": []
  },
  {
   "cell_type": "code",
   "execution_count": null,
   "metadata": {},
   "outputs": [],
   "source": []
  }
 ],
 "metadata": {
  "kernelspec": {
   "display_name": "Python 3",
   "language": "python",
   "name": "python3"
  },
  "language_info": {
   "codemirror_mode": {
    "name": "ipython",
    "version": 3
   },
   "file_extension": ".py",
   "mimetype": "text/x-python",
   "name": "python",
   "nbconvert_exporter": "python",
   "pygments_lexer": "ipython3",
   "version": "3.7.3"
  }
 },
 "nbformat": 4,
 "nbformat_minor": 2
}
